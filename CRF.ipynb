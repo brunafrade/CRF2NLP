{
 "cells": [
  {
   "cell_type": "code",
   "execution_count": null,
   "metadata": {},
   "outputs": [],
   "source": [
    "#CRFSuite is an implementation of Conditional Random Fields (CRFs) for labeling sequential\n",
    "import pycrfsuite # biblioteca CRF Python\n",
    "import os\n",
    "import pandas as pd\n",
    "from sklearn.model_selection import train_test_split"
   ]
  },
  {
   "cell_type": "code",
   "execution_count": null,
   "metadata": {},
   "outputs": [],
   "source": [
    "# FUNÇÃO DO CÓDIGO QUE CARACTERIZA AS FEATURES POR ORDEM E TIPO QUE APARECEM NO TEXTO\n",
    "\n",
    "def word2features(doc, i):\n",
    "    word = doc[i][0]\n",
    "   \n",
    "\n",
    "    # A Primeira configuração de features é geral, para todas as palavras\n",
    "    features = [\n",
    "        'bias',\n",
    "        'word.lower=' + str(word).lower(),\n",
    "        'word.isupper=%s' % str(word).isupper(),\n",
    "        'word.istitle=%s' % str(word).istitle(),\n",
    "        'word.isdigit=%s' % str(word).isdigit(),\n",
    "        \n",
    "    ]\n",
    "\n",
    "    # Estas features são criada para as palavras que NAO estão no inicio do documento\n",
    "    if i > 0:\n",
    "        word1 = doc[i-1][0]\n",
    "        \n",
    "        features.extend([\n",
    "            '-1:word.lower=' + str(word1).lower(),\n",
    "            '-1:word.istitle=%s' % str(word1).istitle(),\n",
    "            '-1:word.isupper=%s' % str(word1).isupper(),\n",
    "            '-1:word.isdigit=%s' % str(word1).isdigit(),\n",
    "            \n",
    "        ])\n",
    "    else:\n",
    "        # Indica que é o início do documento\n",
    "        features.append('BOS')\n",
    "\n",
    "    # Estas features são criada para as palavras que NAO estão no fim do documento\n",
    "    if i < len(doc)-1:\n",
    "        word1 = doc[i+1][0]\n",
    "        #postag1 = doc[i+1][1]\n",
    "        features.extend([\n",
    "            '+1:word.lower=' + str(word1).lower(),\n",
    "            '+1:word.istitle=%s' % str(word1).istitle(),\n",
    "            '+1:word.isupper=%s' % str(word1).isupper(),\n",
    "            '+1:word.isdigit=%s' % str(word1).isdigit(),\n",
    "            #'+1:postag=' + postag1\n",
    "        ])\n",
    "    else:\n",
    "        # Indica que é o fim do documento\n",
    "        features.append('EOS')\n",
    "\n",
    "    return features\n",
    "\n",
    "# A function for extracting features in documents\n",
    "def extract_features(doc):\n",
    "    return [word2features(doc, i) for i in range(len(doc))]\n",
    "\n",
    "# A function for generating the list of labels for each document\n",
    "def get_labels(doc):\n",
    "    return [label for (token, label) in doc]\n"
   ]
  },
  {
   "cell_type": "code",
   "execution_count": null,
   "metadata": {},
   "outputs": [],
   "source": [
    "os.chdir(\"./\")  #Change working directory\n",
    "\n",
    "produtos_tageados = pd.read_excel('AMOSTRAFRANGO_TREINO.xlsx')\n",
    "array_idx_produtos = produtos_tageados.iloc[:,:].values"
   ]
  },
  {
   "cell_type": "code",
   "execution_count": null,
   "metadata": {},
   "outputs": [],
   "source": [
    "# MONTANDO O DOCUMENTO DA FORMA QUE O ALGORITMO PRECISA RECEBER,\n",
    "\n",
    "docs_geral = []\n",
    "array_produto = []\n",
    "\n",
    "for idx, linha in enumerate(array_idx_produtos):\n",
    "    #print(linha)\n",
    "    tupla = (linha[2], linha[1])\n",
    "    if idx == 0:\n",
    "        array_produto.append(tupla)\n",
    "    elif(linha[0] == array_idx_produtos[idx-1][0]):\n",
    "        array_produto.append(tupla)\n",
    "    elif(linha[0] != array_idx_produtos[idx-1][0]):\n",
    "        \n",
    "        docs_geral.append(array_produto)\n",
    "        array_produto = []\n",
    "        array_produto.append(tupla)\n",
    "        \n",
    "# Último produto do loop não tem id diferente do de cima, mas precisa ser inserido no docs_geral\n",
    "docs_geral.append(array_produto)"
   ]
  },
  {
   "cell_type": "code",
   "execution_count": null,
   "metadata": {},
   "outputs": [],
   "source": [
    "# CARREGA AS FEATURES E AS LABELS\n",
    "X = [extract_features(doc) for doc in docs_geral]\n",
    "y = [get_labels(doc) for doc in docs_geral]"
   ]
  },
  {
   "cell_type": "code",
   "execution_count": null,
   "metadata": {},
   "outputs": [],
   "source": [
    "#MONTA A BASE DE TREINO HOLD OUT VALIDATION DE 20%\n",
    "X_train, X_test, y_train, y_test = train_test_split(X, y, test_size=0.2)\n",
    "X[0]\n"
   ]
  },
  {
   "cell_type": "code",
   "execution_count": null,
   "metadata": {},
   "outputs": [],
   "source": [
    "trainer = pycrfsuite.Trainer(verbose=True)\n",
    "\n",
    "# Submit training data to the trainer\n",
    "for xseq, yseq in zip(X_train, y_train):\n",
    "    trainer.append(xseq, yseq)\n",
    "\n",
    "# Set the parameters of the model\n",
    "trainer.set_params({\n",
    "    # coefficient for L1 penalty\n",
    "    'c1': 0.1,\n",
    "\n",
    "    # coefficient for L2 penalty\n",
    "    'c2': 0.01,  \n",
    "\n",
    "    # maximum number of iterations\n",
    "    'max_iterations': 200,\n",
    "\n",
    "    # whether to include transitions that\n",
    "    # are possible, but not observed\n",
    "    'feature.possible_transitions': True\n",
    "})"
   ]
  },
  {
   "cell_type": "code",
   "execution_count": null,
   "metadata": {},
   "outputs": [],
   "source": [
    "#configure um modelo de treino e salve-o, após isso você poderá usar o modelo treinado e salvo para executar o\n",
    "#taggeamento em outras bases\n",
    "trainer.train('crf.model')\n",
    "\n",
    "tagger = pycrfsuite.Tagger()\n",
    "tagger.open('crf.model')\n",
    "y_pred = [tagger.tag(xseq) for xseq in X_test]\n",
    "y_pred"
   ]
  },
  {
   "cell_type": "code",
   "execution_count": null,
   "metadata": {},
   "outputs": [],
   "source": [
    "# Let's take a look at a random sample in the testing set\n",
    "i = 5\n",
    "#len(y_pred)\n",
    "#y_test[0]\n",
    "for i in range(len(y_pred)):\n",
    "    for  z, x, y, in zip(y_test[i], y_pred[i], [x[1].split(\"=\")[1] for x in X_test[i]]):\n",
    "        #print(\"%s (%s)\" % (y, x))\n",
    "        print(y, x, z)"
   ]
  },
  {
   "cell_type": "code",
   "execution_count": null,
   "metadata": {},
   "outputs": [],
   "source": []
  }
 ],
 "metadata": {
  "kernelspec": {
   "display_name": "Python 3",
   "language": "python",
   "name": "python3"
  },
  "language_info": {
   "codemirror_mode": {
    "name": "ipython",
    "version": 3
   },
   "file_extension": ".py",
   "mimetype": "text/x-python",
   "name": "python",
   "nbconvert_exporter": "python",
   "pygments_lexer": "ipython3",
   "version": "3.6.9"
  }
 },
 "nbformat": 4,
 "nbformat_minor": 2
}
